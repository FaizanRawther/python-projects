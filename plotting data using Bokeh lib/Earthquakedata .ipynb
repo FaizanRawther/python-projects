{
 "cells": [
  {
   "cell_type": "code",
   "execution_count": 1,
   "id": "f062a5a3",
   "metadata": {},
   "outputs": [],
   "source": [
    "#to plot earthquake data\n",
    "from bokeh.plotting import figure, output_file,curdoc,show\n",
    "import pandas as pd\n",
    "output_file(\"Earthquake Data.html\",title=\"Earthquake Data\")\n",
    "f1=figure(plot_width=500,plot_height=400,tools='pan, reset')\n",
    "curdoc().theme='dark_minimal'\n",
    "f1.title.text=\"Earthquacke Data\"\n",
    "f1.title.text_color=\"Orange\"\n",
    "f1.title.text_font=\"times\"\n",
    "f1.title.text_font_style = \"italic\"\n",
    "f1.xaxis.minor_tick_line_color=\"Green\"\n",
    "f1.yaxis.minor_tick_line_color=\"Pink\"\n",
    "f1.xaxis.axis_label_text_font_style = 'bold'\n",
    "f1.yaxis.axis_label_text_font_style = 'bold'\n",
    "f1.xaxis.axis_label=\"Time\"\n",
    "f1.yaxis.axis_label=\"Value\"\n",
    "x=[1,3,5,7,9]\n",
    "y=[2,3,6,8,20]\n",
    "#to add both figure in a graph\n",
    "f1.line(x,y,line_width=2,color=\"red\", alpha=0.5)\n",
    "f1.circle([i*2 for i in x],y,size=8,color=\"red\", alpha=0.5)\n",
    "show(f1)"
   ]
  },
  {
   "cell_type": "code",
   "execution_count": 2,
   "id": "8ea14bcf",
   "metadata": {},
   "outputs": [],
   "source": [
    "#to plot education data\n",
    "from bokeh.plotting import figure, output_file, show, curdoc #curdoc changes themes \n",
    "import pandas as pd\n",
    "df2=pd.read_csv(\"bachelors.csv\")\n",
    "output_file(\"bachelors.html\",  title=\"EducationData.py example\" )\n",
    "curdoc().theme = 'dark_minimal'\n",
    "f2=figure(plot_width=400, plot_height=500,tools='pan, reset')\n",
    "f2.title.text=\"Education Data\"\n",
    "f2.title.text_color=\"White\"\n",
    "f2.title.text_font=\"times\"\n",
    "f2.title.text_font_style = \"bold\"\n",
    "x=df2[\"Year\"]\n",
    "y=df2[\"Engineering\"]\n",
    "f2.line(x,y)\n",
    "f2.xaxis.minor_tick_line_color=\"Green\"\n",
    "f2.yaxis.minor_tick_line_color=\"Red\"\n",
    "f2.xaxis.axis_label=\"Years\"\n",
    "f2.yaxis.axis_label=\"Graduates\"\n",
    "show(f2)"
   ]
  },
  {
   "cell_type": "code",
   "execution_count": 3,
   "id": "561b59b0",
   "metadata": {},
   "outputs": [],
   "source": [
    "#to plot nasdaq data\n",
    "#program is an example on how to use data/time stamp\n",
    "from bokeh.plotting import output_file,show, curdoc,figure\n",
    "import pandas as pd\n",
    "output_file(\"adbe.html\",  title=\"Date/time example\")\n",
    "df3=pd.read_csv(\"adbe.csv\", parse_dates=['Date'])\n",
    "f3=figure(width=500,height=250,x_axis_type='datetime',sizing_mode=\"scale_both\")#sizing fits entire graph in a frame\n",
    "f3.line(df3['Date'],df3['Close'], color='Orange',alpha=0.5)\n",
    "show(f3)"
   ]
  },
  {
   "cell_type": "code",
   "execution_count": null,
   "id": "cfe4586a",
   "metadata": {},
   "outputs": [],
   "source": []
  },
  {
   "cell_type": "code",
   "execution_count": null,
   "id": "bdff7ba2",
   "metadata": {},
   "outputs": [],
   "source": []
  }
 ],
 "metadata": {
  "kernelspec": {
   "display_name": "Python 3 (ipykernel)",
   "language": "python",
   "name": "python3"
  },
  "language_info": {
   "codemirror_mode": {
    "name": "ipython",
    "version": 3
   },
   "file_extension": ".py",
   "mimetype": "text/x-python",
   "name": "python",
   "nbconvert_exporter": "python",
   "pygments_lexer": "ipython3",
   "version": "3.10.6"
  }
 },
 "nbformat": 4,
 "nbformat_minor": 5
}
